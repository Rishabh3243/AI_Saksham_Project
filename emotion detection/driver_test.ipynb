{
 "cells": [
  {
   "cell_type": "code",
   "execution_count": 1,
   "id": "8f90b9f8-735b-42bb-840f-2a43b62744d3",
   "metadata": {},
   "outputs": [
    {
     "name": "stdout",
     "output_type": "stream",
     "text": [
      "WARNING:tensorflow:From C:\\Mini Project\\myvenv\\Lib\\site-packages\\keras\\src\\losses.py:2976: The name tf.losses.sparse_softmax_cross_entropy is deprecated. Please use tf.compat.v1.losses.sparse_softmax_cross_entropy instead.\n",
      "\n"
     ]
    }
   ],
   "source": [
    "import cv2\n",
    "import numpy as np\n",
    "from keras.models import model_from_json"
   ]
  },
  {
   "cell_type": "code",
   "execution_count": 2,
   "id": "08340157-d5b9-4f8d-8436-b43bb9f1ba99",
   "metadata": {},
   "outputs": [],
   "source": [
    "label = ['angry', 'happy', 'neutral']"
   ]
  },
  {
   "cell_type": "code",
   "execution_count": 3,
   "id": "47d09a98-a2d2-45e5-9b34-1a7fab50cccb",
   "metadata": {},
   "outputs": [
    {
     "name": "stdout",
     "output_type": "stream",
     "text": [
      "WARNING:tensorflow:From C:\\Mini Project\\myvenv\\Lib\\site-packages\\keras\\src\\backend.py:1398: The name tf.executing_eagerly_outside_functions is deprecated. Please use tf.compat.v1.executing_eagerly_outside_functions instead.\n",
      "\n",
      "WARNING:tensorflow:From C:\\Mini Project\\myvenv\\Lib\\site-packages\\keras\\src\\layers\\pooling\\max_pooling2d.py:161: The name tf.nn.max_pool is deprecated. Please use tf.nn.max_pool2d instead.\n",
      "\n"
     ]
    }
   ],
   "source": [
    "json_file = open(\"driver_detect1.json\",\"r\")\n",
    "model_json = json_file.read()\n",
    "json_file.close()\n",
    "model = model_from_json(model_json)\n",
    "model.load_weights(\"driver_detect1.h5\")"
   ]
  },
  {
   "cell_type": "code",
   "execution_count": 4,
   "id": "92dbe091-f870-4187-b6d3-cb5ddefc1940",
   "metadata": {},
   "outputs": [
    {
     "name": "stdout",
     "output_type": "stream",
     "text": [
      "[[415 152 386 386]]\n"
     ]
    }
   ],
   "source": [
    "#from PIL import Image\n",
    "#from keras.preprocessing.image import load_img, img_to_array\n",
    "image = \"images/custom_test/angry5.jpeg\"  # Replace with the path to your image\n",
    "frame = cv2.imread(image)\n",
    "frame = cv2.resize(frame, (1180, 660))\n",
    "face_detector = cv2.CascadeClassifier('haarcascades/haarcascade_frontalface_default.xml')\n",
    "gray_frame = cv2.cvtColor(frame, cv2.COLOR_BGR2GRAY)\n",
    "num_faces = face_detector.detectMultiScale(gray_frame, scaleFactor=1.1, minNeighbors=5)\n",
    "print(num_faces)"
   ]
  },
  {
   "cell_type": "code",
   "execution_count": 5,
   "id": "f89a64a4-c638-4a30-9348-0c576dd7a922",
   "metadata": {},
   "outputs": [
    {
     "name": "stdout",
     "output_type": "stream",
     "text": [
      "1/1 [==============================] - 0s 161ms/step\n",
      "predicted image is  angry\n"
     ]
    }
   ],
   "source": [
    "for (x, y, w, h) in num_faces:\n",
    "    #print(\"face detected!\")\n",
    "    cv2.rectangle(frame, (x, y-50), (x+w, y+h+10), (0, 255, 0), 4)\n",
    "    roi_gray_frame = gray_frame[y:y + h, x:x + w]\n",
    "    cropped_img = np.expand_dims(np.expand_dims(cv2.resize(roi_gray_frame, (48, 48)), -1), 0)\n",
    "    #print(\"Cropped image shape:\", cropped_img.shape)\n",
    "    # Predict the emotions\n",
    "    pred = model.predict(cropped_img)\n",
    "    #print(\"Prediction array:\", pred)\n",
    "    prediction = label[pred.argmax()]\n",
    "    print(\"predicted image is \", prediction)\n",
    "    #print(x,y,w,h)\n",
    "    #emotion_prediction = emotion_model.predict(cropped_img)\n",
    "    #maxindex = int(np.argmax(emotion_prediction))\n",
    "    #cv2.putText(frame, prediction, (x+5, y-20), cv2.FONT_HERSHEY_SIMPLEX, 1, (255, 0, 0), 2, cv2.LINE_AA)"
   ]
  },
  {
   "cell_type": "code",
   "execution_count": 6,
   "id": "e07abade-cd64-4ccb-ab6d-ed749e42165c",
   "metadata": {},
   "outputs": [],
   "source": [
    "cv2.imshow('Emotion Detection', frame)\n",
    "cv2.waitKey(0)\n",
    "cv2.destroyAllWindows()"
   ]
  }
 ],
 "metadata": {
  "kernelspec": {
   "display_name": "Python 3 (ipykernel)",
   "language": "python",
   "name": "python3"
  },
  "language_info": {
   "codemirror_mode": {
    "name": "ipython",
    "version": 3
   },
   "file_extension": ".py",
   "mimetype": "text/x-python",
   "name": "python",
   "nbconvert_exporter": "python",
   "pygments_lexer": "ipython3",
   "version": "3.11.4"
  }
 },
 "nbformat": 4,
 "nbformat_minor": 5
}
